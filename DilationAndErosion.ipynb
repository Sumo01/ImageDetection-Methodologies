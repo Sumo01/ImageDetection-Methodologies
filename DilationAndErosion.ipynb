{
 "cells": [
  {
   "cell_type": "markdown",
   "metadata": {},
   "source": [
    "# Dilate and Erode\n"
   ]
  },
  {
   "cell_type": "markdown",
   "metadata": {},
   "source": [
    "\n",
    "## Without OpenCV\n"
   ]
  },
  {
   "cell_type": "markdown",
   "metadata": {},
   "source": [
    "\n",
    "Code Source: https://towardsdatascience.com/introduction-to-image-processing-with-python-dilation-and-erosion-for-beginners-d3a0f29ad72b\n",
    "\n"
   ]
  },
  {
   "cell_type": "markdown",
   "metadata": {},
   "source": [
    "### Import Libraries\n"
   ]
  },
  {
   "cell_type": "code",
   "execution_count": null,
   "metadata": {},
   "outputs": [],
   "source": [
    "\n",
    "import numpy as np\n",
    "import matplotlib.pyplot as plt\n",
    "from skimage.io import imread, imshow\n",
    "from skimage.draw import circle\n",
    "from skimage.morphology import erosion, dilation\n"
   ]
  },
  {
   "cell_type": "markdown",
   "metadata": {},
   "source": [
    "\n",
    "### Create a shape\n"
   ]
  },
  {
   "cell_type": "markdown",
   "metadata": {},
   "source": [
    "\n",
    "Creating a circle\n"
   ]
  },
  {
   "cell_type": "code",
   "execution_count": null,
   "metadata": {},
   "outputs": [],
   "source": [
    "\n",
    "circ_image = np.zeros((100, 100))\n",
    "circ_image[circle(50, 50, 25)] = 1\n",
    "imshow(circ_image); \n"
   ]
  },
  {
   "cell_type": "markdown",
   "metadata": {},
   "source": [
    "\n",
    "Applying a kernel to it\n"
   ]
  },
  {
   "cell_type": "code",
   "execution_count": null,
   "metadata": {},
   "outputs": [],
   "source": [
    "\n",
    "cross = np.array([[0,1,0],\n",
    "                  [1,1,1],\n",
    "                  [0,1,0]])\n",
    "imshow(cross, cmap = 'gray');\n",
    "\n",
    "### Applying Erosion Function\n",
    "\n",
    "eroded_circle = erosion(circ_image, cross)\n",
    "imshow(eroded_circle);\n"
   ]
  },
  {
   "cell_type": "markdown",
   "metadata": {},
   "source": [
    "\n",
    "Viewing original image and eroded image side by side\n"
   ]
  },
  {
   "cell_type": "code",
   "execution_count": null,
   "metadata": {},
   "outputs": [],
   "source": [
    "\n",
    "linecolor = 'red'\n",
    "fig, ax = plt.subplots(1, 2, figsize=(12, 5))\n",
    "ax[0].imshow(circ_image, cmap = 'gray');\n",
    "ax[0].set_title('Original', fontsize = 19)\n",
    "ax[0].axvline(x = 25, color = linecolor)\n",
    "ax[0].axvline(x = 75, color = linecolor)\n",
    "ax[0].axhline(y = 25, color = linecolor)\n",
    "ax[0].axhline(y = 75, color = linecolor)\n",
    "ax[1].imshow(eroded_circle, cmap = 'gray');\n",
    "ax[1].set_title('Eroded', fontsize = 19)\n",
    "ax[1].axvline(x = 25, color = linecolor)\n",
    "ax[1].axvline(x = 75, color = linecolor)\n",
    "ax[1].axhline(y = 25, color = linecolor)\n",
    "ax[1].axhline(y = 75, color = linecolor)\n",
    "fig.tight_layout()\n"
   ]
  },
  {
   "cell_type": "markdown",
   "metadata": {},
   "source": [
    "\n",
    "The eroded circle has shrunk slightly. This becomes more apparent as we perform many iterations of the erosion function\n"
   ]
  },
  {
   "cell_type": "code",
   "execution_count": null,
   "metadata": {},
   "outputs": [],
   "source": [
    "\n",
    "def multi_erosion(image, kernel, iterations):\n",
    "    for i in range(iterations):\n",
    "        image = erosion(image, kernel)\n",
    "    return image\n",
    "ites = [2,4,6,8,10,12,14,16,18,20]\n",
    "fig, ax = plt.subplots(2, 5, figsize=(17, 5))\n",
    "for n, ax in enumerate(ax.flatten()):\n",
    "    ax.set_title(f'Iterations : {ites[n]}', fontsize = 16)\n",
    "    new_circle = multi_erosion(circ_image, cross, ites[n])\n",
    "    ax.imshow(new_circle, cmap = 'gray');\n",
    "    ax.axis('off')\n",
    "fig.tight_layout()\n"
   ]
  },
  {
   "cell_type": "markdown",
   "metadata": {},
   "source": [
    "\n",
    "#### Changing the kernel function\n"
   ]
  },
  {
   "cell_type": "markdown",
   "metadata": {},
   "source": [
    "\n",
    " Instead of a cross kernel we use a horizontal line as well as a vertical line kernel.\n"
   ]
  },
  {
   "cell_type": "code",
   "execution_count": null,
   "metadata": {},
   "outputs": [],
   "source": [
    "\n",
    "h_line = np.array([[0,0,0],\n",
    "                  [1,1,1],\n",
    "                  [0,0,0]])\n",
    "v_line = np.array([[0,1,0],\n",
    "                  [0,1,0],\n",
    "                  [0,1,0]])\n",
    "fig, ax = plt.subplots(1, 2, figsize=(15, 5))\n",
    "ax[0].imshow(h_line, cmap='gray');\n",
    "ax[1].imshow(v_line, cmap='gray');\n",
    "fig.tight_layout()\n",
    "\n",
    "ites = [2,4,6,8,10,12,14,16,18,20]\n",
    "fig, ax = plt.subplots(2, 5, figsize=(17, 5))\n",
    "for n, ax in enumerate(ax.flatten()):\n",
    "    ax.set_title(f'Horizontal Iterations : {ites[n]}', fontsize = 12)\n",
    "    new_circle = multi_erosion(circ_image, h_line, ites[n])\n",
    "    ax.imshow(new_circle, cmap = 'gray');\n",
    "    ax.axis('off')\n",
    "fig.tight_layout()\n",
    "fig, ax = plt.subplots(2, 5, figsize=(17, 5))\n",
    "for n, ax in enumerate(ax.flatten()):\n",
    "    ax.set_title(f'Vertical Iterationss : {ites[n]}', fontsize = 12)\n",
    "    new_circle = multi_erosion(circ_image, v_line, ites[n])\n",
    "    ax.imshow(new_circle, cmap = 'gray');\n",
    "    ax.axis('off')\n",
    "fig.tight_layout()\n"
   ]
  },
  {
   "cell_type": "markdown",
   "metadata": {},
   "source": [
    "\n",
    "### Applying Dilation Function\n"
   ]
  },
  {
   "cell_type": "code",
   "execution_count": null,
   "metadata": {},
   "outputs": [],
   "source": [
    "\n",
    "def multi_dilation(image, kernel, iterations):\n",
    "    for i in range(iterations):\n",
    "        image = dilation(image, kernel)\n",
    "    return image\n",
    "\n",
    "dilated_circle = multi_dilation(circ_image, cross, 1)\n",
    "linecolor = 'red'\n",
    "fig, ax = plt.subplots(1, 2, figsize=(12, 5))\n",
    "ax[0].imshow(circ_image, cmap = 'gray');\n",
    "ax[0].set_title('Original', fontsize = 19)\n",
    "ax[0].axvline(x = 25, color = linecolor)\n",
    "ax[0].axvline(x = 75, color = linecolor)\n",
    "ax[0].axhline(y = 25, color = linecolor)\n",
    "ax[0].axhline(y = 75, color = linecolor)\n",
    "ax[1].imshow(dilated_circle, cmap = 'gray');\n",
    "ax[1].set_title('Dilated', fontsize = 19)\n",
    "ax[1].axvline(x = 25, color = linecolor)\n",
    "ax[1].axvline(x = 75, color = linecolor)\n",
    "ax[1].axhline(y = 25, color = linecolor)\n",
    "ax[1].axhline(y = 75, color = linecolor)\n",
    "fig.tight_layout()\n"
   ]
  },
  {
   "cell_type": "markdown",
   "metadata": {},
   "source": [
    "\n",
    "Over many iterations:\n"
   ]
  },
  {
   "cell_type": "code",
   "execution_count": null,
   "metadata": {},
   "outputs": [],
   "source": [
    "\n",
    "ites = [2,4,6,8,10,12,14,16,18,20]\n",
    "fig, ax = plt.subplots(2, 5, figsize=(17, 5))\n",
    "for n, ax in enumerate(ax.flatten()):\n",
    "    ax.set_title(f'Horizontal Iterations : {ites[n]}', fontsize = \n",
    "                 12)\n",
    "    new_circle = multi_dilation(circ_image, h_line, ites[n])\n",
    "    ax.imshow(new_circle, cmap = 'gray');\n",
    "    ax.axis('off')\n",
    "fig.tight_layout()\n",
    "fig, ax = plt.subplots(2, 5, figsize=(17, 5))\n",
    "for n, ax in enumerate(ax.flatten()):\n",
    "    ax.set_title(f'Vertical Iterationss : {ites[n]}', fontsize = 12)\n",
    "    new_circle = multi_dilation(circ_image, v_line, ites[n])\n",
    "    ax.imshow(new_circle, cmap = 'gray');\n",
    "    ax.axis('off')\n",
    "fig.tight_layout()\n"
   ]
  },
  {
   "cell_type": "markdown",
   "metadata": {},
   "source": [
    "\n",
    "### Using a complex Image\n"
   ]
  },
  {
   "cell_type": "code",
   "execution_count": null,
   "metadata": {},
   "outputs": [],
   "source": [
    "\n",
    "complex_image = imread('complex_image.png')\n",
    "imshow(complex_image);\n"
   ]
  },
  {
   "cell_type": "code",
   "execution_count": null,
   "metadata": {},
   "outputs": [],
   "source": [
    "\n",
    "step_1 = multi_erosion(complex_image, h_line,3)\n",
    "step_2 = multi_erosion(step_1, v_line,3)\n",
    "step_3 = multi_dilation(step_2, h_line,3)\n",
    "step_4 = multi_dilation(step_3, v_line,3)\n",
    "steps = [step_1, step_2, step_3, step_4]\n",
    "names = ['Step 1', 'Step 2', 'Step 3', 'Step 4']\n",
    "fig, ax = plt.subplots(2, 2, figsize=(10, 10))\n",
    "for n, ax in enumerate(ax.flatten()):\n",
    "    ax.set_title(f'{names[n]}', fontsize = 22)\n",
    "    ax.imshow(steps[n], cmap = 'gray');\n",
    "    ax.axis('off')\n",
    "fig.tight_layout()\n"
   ]
  },
  {
   "cell_type": "markdown",
   "metadata": {},
   "source": [
    "\n",
    "#### Finding Horizontal Lines\n"
   ]
  },
  {
   "cell_type": "code",
   "execution_count": null,
   "metadata": {},
   "outputs": [],
   "source": [
    "\n",
    "step_1 = multi_erosion(complex_image, cross, 20)\n",
    "step_2 = multi_dilation(step_1, h_line, 20)\n",
    "step_3 = multi_dilation(step_2, v_line,2)\n",
    "steps = [step_1, step_2, step_3]\n",
    "names = ['Step 1', 'Step 2', 'Step 3']fig, ax = plt.subplots(1, 3, figsize=(10, 10))\n",
    "for n, ax in enumerate(ax.flatten()):\n",
    "    ax.set_title(f'{names[n]}', fontsize = 22)\n",
    "    ax.imshow(steps[n], cmap = 'gray');\n",
    "    ax.axis('off')\n",
    "fig.tight_layout()\n"
   ]
  },
  {
   "cell_type": "markdown",
   "metadata": {},
   "source": [
    "\n",
    "#### Creating a new kernel\n"
   ]
  },
  {
   "cell_type": "code",
   "execution_count": null,
   "metadata": {},
   "outputs": [],
   "source": [
    "\n",
    "long_v_line = np.array([[0,1,0],\n",
    "                        [0,1,0],\n",
    "                        [0,1,0],\n",
    "                        [0,1,0],\n",
    "                        [0,1,0]])\n",
    "step_1 = multi_erosion(complex_image, long_v_line, 10)\n",
    "step_2 = multi_dilation(step_1 ,long_v_line, 10)\n",
    "steps = [step_1, step_2]\n",
    "names = ['Step 1', 'Step 2']\n",
    "fig, ax = plt.subplots(1, 2, figsize=(10, 10))\n",
    "for n, ax in enumerate(ax.flatten()):\n",
    "    ax.set_title(f'{names[n]}', fontsize = 22)\n",
    "    ax.imshow(steps[n], cmap = 'gray');\n",
    "    ax.axis('off')\n",
    "fig.tight_layout()\n"
   ]
  },
  {
   "cell_type": "markdown",
   "metadata": {},
   "source": [
    "\n",
    "## Using OpenCV\n"
   ]
  },
  {
   "cell_type": "markdown",
   "metadata": {},
   "source": [
    "\n",
    "Code Source: https://docs.opencv.org/3.4/db/df6/tutorial_erosion_dilatation.html\n"
   ]
  },
  {
   "cell_type": "code",
   "execution_count": null,
   "metadata": {},
   "outputs": [],
   "source": [
    "\n",
    "from __future__ import print_function\n",
    "import cv2 as cv\n",
    "import numpy as np\n",
    "import argparse\n"
   ]
  },
  {
   "cell_type": "code",
   "execution_count": null,
   "metadata": {},
   "outputs": [],
   "source": [
    "\n",
    "src = None\n",
    "erosion_size = 0\n",
    "max_elem = 2\n",
    "max_kernel_size = 21\n",
    "title_trackbar_element_shape = 'Element:\\n 0: Rect \\n 1: Cross \\n 2: Ellipse'\n",
    "title_trackbar_kernel_size = 'Kernel size:\\n 2n +1'\n",
    "title_trackbar_button= '0 : OFF \\n1 : ON'\n",
    "title_erosion_window = 'Erosion Demo'\n",
    "title_dilation_window = 'Dilation Demo'\n"
   ]
  },
  {
   "cell_type": "markdown",
   "metadata": {},
   "source": [
    "\n",
    "1. Load an image (can be BGR or grayscale)\n",
    "2. Create two windows (one for erosion output, the other for dilation) with a set of trackbars each  \n",
    "   - The first trackbar \"Element\" returns the value for the morphological type that will be mapped (1 = rectangle, 2 = cross, 3 = ellipse)  \n",
    "   - The second trackbar \"Kernel size\" returns the size of the element for the corresponding operation\n",
    "3. Call once erosion and dilation to show the initial image\n",
    "\n"
   ]
  },
  {
   "cell_type": "code",
   "execution_count": null,
   "metadata": {},
   "outputs": [],
   "source": [
    "\n",
    "def Callmain(src):\n",
    "    \n",
    "    cv.namedWindow(title_erosion_window)\n",
    "    cv.createTrackbar(title_trackbar_element_shape, title_erosion_window, 0, max_elem, erosion)\n",
    "    cv.createTrackbar(title_trackbar_kernel_size, title_erosion_window, 0, max_kernel_size, erosion)\n",
    "    cv.createTrackbar(title_trackbar_button, title_erosion_window, 0, 1, erosion)\n",
    "    cv.namedWindow(title_dilation_window)\n",
    "    cv.createTrackbar(title_trackbar_element_shape, title_dilation_window, 0, max_elem, dilatation)\n",
    "    cv.createTrackbar(title_trackbar_kernel_size, title_dilation_window, 0, max_kernel_size, dilatation)\n",
    "    cv.createTrackbar(title_trackbar_button, title_dilation_window, 0, 1, dilatation)\n",
    "    erosion(0)\n",
    "    \n",
    "    dilatation(0)\n",
    "    cv.waitKey()\n"
   ]
  },
  {
   "cell_type": "markdown",
   "metadata": {},
   "source": [
    "\n",
    "### Erosion Function \n",
    " The function that performs the erosion operation is cv::erode . As we can see, it receives two arguments and returns the processed image:\n",
    "\n",
    "- src: The source image\n",
    "- element: The kernel we will use to perform the operation. We can specify its shape by using the function cv::getStructuringElement : \n",
    "\n",
    "We can choose any of three shapes for our kernel:\n",
    "\n",
    "- Rectangular box: MORPH_RECT    \n",
    "- Cross: MORPH_CROSS      \n",
    "- Ellipse: MORPH_ELLIPSE    \n",
    "\n"
   ]
  },
  {
   "cell_type": "code",
   "execution_count": null,
   "metadata": {},
   "outputs": [],
   "source": [
    "\n",
    "# optional mapping of values with morphological shapes\n",
    "def morph_shape(val):\n",
    "    if val == 0:\n",
    "        return cv.MORPH_RECT\n",
    "    elif val == 1:\n",
    "        return cv.MORPH_CROSS\n",
    "    elif val == 2:\n",
    "        return cv.MORPH_ELLIPSE\n"
   ]
  },
  {
   "cell_type": "code",
   "execution_count": null,
   "metadata": {},
   "outputs": [],
   "source": [
    "\n",
    "def erosion(val):\n",
    "    erosion_size = cv.getTrackbarPos(title_trackbar_kernel_size, title_erosion_window)\n",
    "    erosion_shape = morph_shape(cv.getTrackbarPos(title_trackbar_element_shape, title_erosion_window))\n",
    "    \n",
    "    element = cv.getStructuringElement(erosion_shape, (2 * erosion_size + 1, 2 * erosion_size + 1),\n",
    "                                       (erosion_size, erosion_size))\n",
    "    \n",
    "    erosion_dst = cv.erode(src, element)\n",
    "    cv.imshow(title_erosion_window, erosion_dst)\n",
    "    if cv.getTrackbarPos(title_trackbar_button, title_erosion_window) == 1:\n",
    "        # Save the image\n",
    "        cv.imwrite(\"eroded_image.png\", erosion_dst)\n",
    "        print(\"Image saved!\")\n",
    "\n",
    "        # Reset the button value\n",
    "        cv.setTrackbarPos(title_trackbar_button, title_erosion_window, 0)\n"
   ]
  },
  {
   "cell_type": "markdown",
   "metadata": {},
   "source": [
    "\n",
    "### Dilation Function\n",
    "The code is below. As you can see, it is completely similar to the snippet of code for erosion. Here we also have the option of defining our kernel, its anchor point and the size of the operator to be used.\n"
   ]
  },
  {
   "cell_type": "code",
   "execution_count": null,
   "metadata": {},
   "outputs": [],
   "source": [
    "\n",
    "def dilatation(val):\n",
    "    dilatation_size = cv.getTrackbarPos(title_trackbar_kernel_size, title_dilation_window)\n",
    "    dilation_shape = morph_shape(cv.getTrackbarPos(title_trackbar_element_shape, title_dilation_window))\n",
    "    element = cv.getStructuringElement(dilation_shape, (2 * dilatation_size + 1, 2 * dilatation_size + 1),\n",
    "                                       (dilatation_size, dilatation_size))\n",
    "    dilatation_dst = cv.dilate(src, element)\n",
    "    cv.imshow(title_dilation_window, dilatation_dst)\n",
    "    if __name__ == \"__Callmain__\":\n",
    "        parser = argparse.ArgumentParser(description='Code for Eroding and Dilating tutorial.')\n",
    "        parser.add_argument('--input', help='Path to input image.', default='LinuxLogo.jpg')\n",
    "        args = parser.parse_args()\n",
    "        main(args.input)\n",
    "    if cv.getTrackbarPos(title_trackbar_button, title_dilation_window) == 1:\n",
    "        # Save the image\n",
    "        cv.imwrite(\"dilated_image.png\",dilatation_dst)\n",
    "        print(\"Image saved!\")\n",
    "\n",
    "        # Reset the button value\n",
    "        cv.setTrackbarPos(title_trackbar_button, title_dilation_window, 0)\n",
    "        \n"
   ]
  },
  {
   "cell_type": "code",
   "execution_count": null,
   "metadata": {},
   "outputs": [],
   "source": [
    "\n",
    "global src\n",
    "src = cv.imread(\"eroded_image.png\")\n",
    "if src is None:\n",
    "        print('Could not open or find the image: ')\n",
    "        exit(0)\n",
    "Callmain(src)"
   ]
  }
 ],
 "metadata": {
  "language_info": {
   "name": "python"
  },
  "orig_nbformat": 4
 },
 "nbformat": 4,
 "nbformat_minor": 2
}
