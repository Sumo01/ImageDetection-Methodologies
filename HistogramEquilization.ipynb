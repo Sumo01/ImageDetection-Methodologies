{
 "cells": [
  {
   "attachments": {},
   "cell_type": "markdown",
   "metadata": {},
   "source": [
    "# Histogram Equilization"
   ]
  },
  {
   "attachments": {},
   "cell_type": "markdown",
   "metadata": {},
   "source": [
    "Histogram Equilization is used in **image processing** to convert images in with low contrast into images with higher contrast. Its task is contrast enhancement. Any image can be represented as a matrix of pixels where each pixel holds a value for the colour it is. Take the example below:"
   ]
  },
  {
   "attachments": {},
   "cell_type": "markdown",
   "metadata": {},
   "source": [
    "<div style=\"display: flex; flex-wrap: wrap; justify-content: center;\">\n",
    "    <figure style=\"margin: 10px;\">\n",
    "        <img src=\"./Images/input_image.png\" alt=\"Initial Picture\" style=\"width: 200px; height: 100px; object-fit: cover;\">\n",
    "        <figcaption>Initial Picture</figcaption>\n",
    "    </figure>\n",
    "     <figure style=\"margin: 10px;\">\n",
    "        <img src=\"./Images/output_image.jpg\" alt=\"Final Picture\" style=\"width: 200px; height: 100px; object-fit: cover;\">\n",
    "        <figcaption>Final Picture</figcaption>\n",
    "    </figure>\n",
    "</div>"
   ]
  },
  {
   "attachments": {},
   "cell_type": "markdown",
   "metadata": {},
   "source": [
    "Histogram equilization works mainly on greyscale pictures - which is a 2D representation of images. Depending on the size of the image (n-bit), the greyscale is assigned. For example, a 3-bit image can store shades of grey that start from 0 (black) to 7 (white). Therefore, it can store 8 shades of grey. Similarly, an 8-bit greyscale image can store 256 shades (0: black, 255:white). Taken below is the example of a 3-bit greyscale image along with its 2D representation and its histogram equivalent."
   ]
  },
  {
   "attachments": {},
   "cell_type": "markdown",
   "metadata": {},
   "source": [
    "<div style=\"display: flex; flex-wrap: wrap; justify-content: center;\">\n",
    "    <figure style=\"margin: 10px;\">\n",
    "        <img src=\"./Images/hegs1.png\" alt=\"3-bit Image\" style=\"width: 200px; height: 200px; object-fit: cover;\">\n",
    "        <figcaption>3-bit Image</figcaption>\n",
    "    </figure>\n",
    "    <figure style=\"margin: 10px;\">\n",
    "        <img src=\"./Images/hegs2.png\" alt=\"2D Matrix Representation\" style=\"width: 280px; height: 200px; object-fit: cover;\">\n",
    "        <figcaption>2D Matrix Representation</figcaption>\n",
    "    </figure>\n",
    "    <figure style=\"margin: 10px;\">\n",
    "        <img src=\"./Images/hegs3.png\" alt=\"Corresponding Histogram\" style=\"width: 300px; height: 200px; object-fit: cover;\">\n",
    "        <figcaption>Corresponding Histogram</figcaption>\n",
    "    </figure>\n",
    "</div>"
   ]
  },
  {
   "attachments": {},
   "cell_type": "markdown",
   "metadata": {},
   "source": [
    "### Notations:   \n",
    "In a gray level image, let us consider:    \n",
    ">$L$  -No. of gray levels in the image $(0 to L-1)$  \n",
    ">$r_k$-The normalized intensity value (gray level), $r_k∈[0,1]$, here $k ∈[0,L-1]$  \n",
    ">$n_k$-No. of pixels with gray level rk  \n",
    ">$N$-Total number of pixels in the image  "
   ]
  },
  {
   "attachments": {},
   "cell_type": "markdown",
   "metadata": {},
   "source": [
    "Histogram (h) of an image is defined as\n",
    "$$h(r_k)=n_k  \\hspace{30 mm}k=0,1,2,..L-1$$"
   ]
  },
  {
   "attachments": {},
   "cell_type": "markdown",
   "metadata": {},
   "source": [
    "\n",
    "The probabilities assigned to each gray level can be given by the relation:\n",
    "$$𝒑_𝒓(𝒓_𝒌)=\\frac{𝒏_𝒌}{𝑵}\\hspace{10 mm}𝟎≤𝒓_𝒌≤𝟏\\hspace{10 mm}𝒌=𝟎,𝟏,𝟐…𝑳−𝟏$$\n"
   ]
  },
  {
   "attachments": {},
   "cell_type": "markdown",
   "metadata": {},
   "source": [
    "The plot of $p_r(r_k)$ with respect to $r_k$ is called normalized histogram of the image"
   ]
  },
  {
   "attachments": {},
   "cell_type": "markdown",
   "metadata": {},
   "source": [
    "### Types of Images"
   ]
  },
  {
   "cell_type": "code",
   "execution_count": 1,
   "metadata": {},
   "outputs": [
    {
     "ename": "FileNotFoundError",
     "evalue": "[Errno 2] No such file or directory: './Images/hegs5.png'",
     "output_type": "error",
     "traceback": [
      "\u001b[0;31m---------------------------------------------------------------------------\u001b[0m",
      "\u001b[0;31mFileNotFoundError\u001b[0m                         Traceback (most recent call last)",
      "Cell \u001b[0;32mIn[1], line 2\u001b[0m\n\u001b[1;32m      1\u001b[0m \u001b[39mfrom\u001b[39;00m \u001b[39mPIL\u001b[39;00m \u001b[39mimport\u001b[39;00m Image\n\u001b[0;32m----> 2\u001b[0m image \u001b[39m=\u001b[39m Image\u001b[39m.\u001b[39;49mopen(\u001b[39m'\u001b[39;49m\u001b[39m./Images/hegs5.png\u001b[39;49m\u001b[39m'\u001b[39;49m)\n",
      "File \u001b[0;32m~/.local/lib/python3.10/site-packages/PIL/Image.py:3236\u001b[0m, in \u001b[0;36mopen\u001b[0;34m(fp, mode, formats)\u001b[0m\n\u001b[1;32m   3233\u001b[0m     filename \u001b[39m=\u001b[39m fp\n\u001b[1;32m   3235\u001b[0m \u001b[39mif\u001b[39;00m filename:\n\u001b[0;32m-> 3236\u001b[0m     fp \u001b[39m=\u001b[39m builtins\u001b[39m.\u001b[39;49mopen(filename, \u001b[39m\"\u001b[39;49m\u001b[39mrb\u001b[39;49m\u001b[39m\"\u001b[39;49m)\n\u001b[1;32m   3237\u001b[0m     exclusive_fp \u001b[39m=\u001b[39m \u001b[39mTrue\u001b[39;00m\n\u001b[1;32m   3239\u001b[0m \u001b[39mtry\u001b[39;00m:\n",
      "\u001b[0;31mFileNotFoundError\u001b[0m: [Errno 2] No such file or directory: './Images/hegs5.png'"
     ]
    }
   ],
   "source": [
    "from PIL import Image\n",
    "image = Image.open('./Images/hegs5.png')"
   ]
  }
 ],
 "metadata": {
  "kernelspec": {
   "display_name": "Python 3",
   "language": "python",
   "name": "python3"
  },
  "language_info": {
   "codemirror_mode": {
    "name": "ipython",
    "version": 3
   },
   "file_extension": ".py",
   "mimetype": "text/x-python",
   "name": "python",
   "nbconvert_exporter": "python",
   "pygments_lexer": "ipython3",
   "version": "3.10.4"
  },
  "orig_nbformat": 4
 },
 "nbformat": 4,
 "nbformat_minor": 2
}
