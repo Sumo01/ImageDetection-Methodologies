{
 "cells": [
  {
   "attachments": {},
   "cell_type": "markdown",
   "metadata": {},
   "source": [
    "# Histogram Equilization"
   ]
  },
  {
   "attachments": {},
   "cell_type": "markdown",
   "metadata": {},
   "source": [
    "Histogram Equilization is used in **image processing** to convert images in with low contrast into images with higher contrast. Its task is contrast enhancement. Any image can be represented as a matrix of pixels where each pixel holds a value for the colour it is. Take the example below:"
   ]
  },
  {
   "attachments": {},
   "cell_type": "markdown",
   "metadata": {},
   "source": [
    "<div style=\"display: flex; flex-wrap: wrap; justify-content: center;\">\n",
    "    <figure style=\"margin: 10px;\">\n",
    "        <img src=\"./Capsule_Images/good.png\" alt=\"Good Capsule\" style=\"width: 200px; height: 200px; object-fit: cover;\">\n",
    "        <figcaption>Good Capsule</figcaption>\n",
    "    </figure>\n",
    "    <figure style=\"margin: 10px;\">\n",
    "        <img src=\"./Capsule_Images/cracked.png\" alt=\"Cracked Capsule\" style=\"width: 200px; height: 200px; object-fit: cover;\">\n",
    "        <figcaption>Cracked Capsule</figcaption>\n",
    "    </figure>\n",
    "    <figure style=\"margin: 10px;\">\n",
    "        <img src=\"./Capsule_Images/imprint.png\" alt=\"Capsule with Faulty Imprint\" style=\"width: 200px; height: 200px; object-fit: cover;\">\n",
    "        <figcaption>Capsule with Faulty Imprint</figcaption>\n",
    "    </figure>\n",
    "</div>"
   ]
  },
  {
   "cell_type": "code",
   "execution_count": null,
   "metadata": {},
   "outputs": [],
   "source": []
  }
 ],
 "metadata": {
  "kernelspec": {
   "display_name": "Python 3",
   "language": "python",
   "name": "python3"
  },
  "language_info": {
   "name": "python",
   "version": "3.10.4"
  },
  "orig_nbformat": 4
 },
 "nbformat": 4,
 "nbformat_minor": 2
}
