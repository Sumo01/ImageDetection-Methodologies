{
 "cells": [
  {
   "attachments": {},
   "cell_type": "markdown",
   "metadata": {},
   "source": [
    "# Histogram Equilization"
   ]
  },
  {
   "attachments": {},
   "cell_type": "markdown",
   "metadata": {},
   "source": [
    "Histogram Equilization is used in **image processing** to convert images in with low contrast into images with higher contrast. Its task is contrast enhancement. Any image can be represented as a matrix of pixels where each pixel holds a value for the colour it is. Take the example below:"
   ]
  },
  {
   "attachments": {},
   "cell_type": "markdown",
   "metadata": {},
   "source": [
    "<div style=\"display: flex; flex-wrap: wrap; justify-content: center;\">\n",
    "    <figure style=\"margin: 10px;\">\n",
    "        <img src=\"./Images/input_image.png\" alt=\"Initial Picture\" style=\"width: 200px; height: 100px; object-fit: cover;\">\n",
    "        <figcaption>Initial Picture</figcaption>\n",
    "    </figure>\n",
    "     <figure style=\"margin: 10px;\">\n",
    "        <img src=\"./Images/output_image.jpg\" alt=\"Final Picture\" style=\"width: 200px; height: 100px; object-fit: cover;\">\n",
    "        <figcaption>Final Picture</figcaption>\n",
    "    </figure>\n",
    "</div>"
   ]
  },
  {
   "attachments": {},
   "cell_type": "markdown",
   "metadata": {},
   "source": [
    "Histogram equilization works mainly on greyscale pictures - which is a 2D representation of images. Depending on the size of the image (n-bit), the greyscale is assigned. For example, a 3-bit image can store shades of grey that start from 0 (black) to 7 (white). Therefore, it can store 8 shades of grey. Similarly, an 8-bit greyscale image can store 256 shades (0: black, 255:white). Taken below is the example of a 3-bit greyscale image along with its 2D representation and its histogram equivalent."
   ]
  },
  {
   "attachments": {},
   "cell_type": "markdown",
   "metadata": {},
   "source": [
    "<div style=\"display: flex; flex-wrap: wrap; justify-content: center;\">\n",
    "    <figure style=\"margin: 10px;\">\n",
    "        <img src=\"./Images/hegs1.png\" alt=\"3-bit Image\" style=\"width: 200px; height: 200px; object-fit: cover;\">\n",
    "        <figcaption>3-bit Image</figcaption>\n",
    "    </figure>\n",
    "     <figure style=\"margin: 10px;\">\n",
    "        <img src=\"./Images/hegs2.png\" alt=\"2D Matrix Representation\" style=\"width: 280px; height: 200px; object-fit: cover;\">\n",
    "        <figcaption>2D Matrix Representation</figcaption>\n",
    "    </figure>\n",
    "</div>"
   ]
  }
 ],
 "metadata": {
  "kernelspec": {
   "display_name": "Python 3",
   "language": "python",
   "name": "python3"
  },
  "language_info": {
   "name": "python",
   "version": "3.10.4"
  },
  "orig_nbformat": 4
 },
 "nbformat": 4,
 "nbformat_minor": 2
}
