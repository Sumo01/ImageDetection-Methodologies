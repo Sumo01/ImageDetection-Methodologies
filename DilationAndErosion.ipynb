{
 "cells": [
  {
   "attachments": {},
   "cell_type": "markdown",
   "metadata": {},
   "source": [
    "# Dilate and Erode\n"
   ]
  },
  {
   "attachments": {},
   "cell_type": "markdown",
   "metadata": {},
   "source": [
    "Dilation and erosion are fundamental operations in morphological image processing. They are used to modify and transform the shapes and structures within an image by considering the neighborhood of each pixel.\n"
   ]
  },
  {
   "attachments": {},
   "cell_type": "markdown",
   "metadata": {},
   "source": [
    "> *Dilation:*  \n",
    "    Dilation is an operation that expands or thickens the boundaries of objects in an image. It works by considering each pixel in the image and replacing it with the maximum value within its neighborhood. The neighborhood is defined by a structuring element, which is a small matrix or shape. If any pixel in the neighborhood has a value of 1 (foreground pixel), the central pixel being processed is set to 1 as well. Dilation is commonly used to fill gaps, join nearby regions, or enlarge objects in an image.\n"
   ]
  },
  {
   "attachments": {},
   "cell_type": "markdown",
   "metadata": {},
   "source": [
    "> *Erosion:*   \n",
    "    Erosion is the opposite operation to dilation and is used to erode or shrink the boundaries of objects in an image. Like dilation, erosion considers each pixel and replaces it with the minimum value within its neighborhood. If any pixel in the neighborhood has a value of 0 (background pixel), the central pixel being processed is set to 0 as well. Erosion can be used to remove noise, separate connected objects, or reduce the size of objects."
   ]
  },
  {
   "attachments": {},
   "cell_type": "markdown",
   "metadata": {},
   "source": [
    "Both dilation and erosion can be applied iteratively to achieve different effects by repeatedly applying the operation. The number of iterations determines the extent of the transformation."
   ]
  },
  {
   "attachments": {},
   "cell_type": "markdown",
   "metadata": {},
   "source": [
    "\n",
    "In both operations, the structuring element defines the shape and size of the neighborhood. It can be a simple shape, such as a square or a circle, or a more complex shape, depending on the desired effect. The structuring element is typically smaller than the objects of interest in the image and centered on the pixel being processed."
   ]
  },
  {
   "attachments": {},
   "cell_type": "markdown",
   "metadata": {},
   "source": [
    "\n",
    "## Using OpenCV\n"
   ]
  },
  {
   "attachments": {},
   "cell_type": "markdown",
   "metadata": {},
   "source": [
    "\n",
    "Code Source: https://docs.opencv.org/3.4/db/df6/tutorial_erosion_dilatation.html\n"
   ]
  },
  {
   "cell_type": "code",
   "execution_count": 2,
   "metadata": {},
   "outputs": [],
   "source": [
    "from __future__ import print_function\n",
    "import cv2 as cv\n",
    "import numpy as np\n",
    "import argparse"
   ]
  },
  {
   "cell_type": "code",
   "execution_count": 1,
   "metadata": {},
   "outputs": [],
   "source": [
    "src = None\n",
    "erosion_size = 0\n",
    "max_elem = 2\n",
    "max_kernel_size = 21\n",
    "title_trackbar_element_shape = 'Element:\\n 0: Rect \\n 1: Cross \\n 2: Ellipse'\n",
    "title_trackbar_kernel_size = 'Kernel size:\\n 2n +1'\n",
    "title_trackbar_button= '0 : OFF \\n1 : ON'\n",
    "title_erosion_window = 'Erosion Demo'\n",
    "title_dilation_window = 'Dilation Demo'"
   ]
  },
  {
   "attachments": {},
   "cell_type": "markdown",
   "metadata": {},
   "source": [
    "\n",
    "1. Load an image (can be BGR or grayscale)\n",
    "2. Create two windows (one for erosion output, the other for dilation) with a set of trackbars each  \n",
    "   - The first trackbar \"Element\" returns the value for the morphological type that will be mapped (1 = rectangle, 2 = cross, 3 = ellipse)  \n",
    "   - The second trackbar \"Kernel size\" returns the size of the element for the corresponding operation\n",
    "3. Call once erosion and dilation to show the initial image\n",
    "\n"
   ]
  },
  {
   "cell_type": "code",
   "execution_count": 4,
   "metadata": {},
   "outputs": [],
   "source": [
    "def Callmain(src):\n",
    "    \n",
    "    cv.namedWindow(title_erosion_window)\n",
    "    cv.createTrackbar(title_trackbar_element_shape, title_erosion_window, 0, max_elem, erosion)\n",
    "    cv.createTrackbar(title_trackbar_kernel_size, title_erosion_window, 0, max_kernel_size, erosion)\n",
    "    cv.createTrackbar(title_trackbar_button, title_erosion_window, 0, 1, erosion)\n",
    "    cv.namedWindow(title_dilation_window)\n",
    "    cv.createTrackbar(title_trackbar_element_shape, title_dilation_window, 0, max_elem, dilatation)\n",
    "    cv.createTrackbar(title_trackbar_kernel_size, title_dilation_window, 0, max_kernel_size, dilatation)\n",
    "    cv.createTrackbar(title_trackbar_button, title_dilation_window, 0, 1, dilatation)\n",
    "    erosion(0)\n",
    "    \n",
    "    dilatation(0)\n",
    "    cv.waitKey()"
   ]
  },
  {
   "attachments": {},
   "cell_type": "markdown",
   "metadata": {},
   "source": [
    "\n",
    "### Erosion Function \n",
    " The function that performs the erosion operation is cv::erode . As we can see, it receives two arguments and returns the processed image:\n",
    "\n",
    "- src: The source image\n",
    "- element: The kernel we will use to perform the operation. We can specify its shape by using the function cv::getStructuringElement : \n",
    "\n",
    "We can choose any of three shapes for our kernel:\n",
    "\n",
    "- Rectangular box: MORPH_RECT    \n",
    "- Cross: MORPH_CROSS      \n",
    "- Ellipse: MORPH_ELLIPSE    \n",
    "\n"
   ]
  },
  {
   "cell_type": "code",
   "execution_count": 5,
   "metadata": {},
   "outputs": [],
   "source": [
    "# optional mapping of values with morphological shapes\n",
    "def morph_shape(val):\n",
    "    if val == 0:\n",
    "        return cv.MORPH_RECT\n",
    "    elif val == 1:\n",
    "        return cv.MORPH_CROSS\n",
    "    elif val == 2:\n",
    "        return cv.MORPH_ELLIPSE"
   ]
  },
  {
   "cell_type": "code",
   "execution_count": 6,
   "metadata": {},
   "outputs": [],
   "source": [
    "def erosion(val):\n",
    "    erosion_size = cv.getTrackbarPos(title_trackbar_kernel_size, title_erosion_window)\n",
    "    erosion_shape = morph_shape(cv.getTrackbarPos(title_trackbar_element_shape, title_erosion_window))\n",
    "    \n",
    "    element = cv.getStructuringElement(erosion_shape, (2 * erosion_size + 1, 2 * erosion_size + 1),\n",
    "                                       (erosion_size, erosion_size))\n",
    "    \n",
    "    erosion_dst = cv.erode(src, element)\n",
    "    cv.imshow(title_erosion_window, erosion_dst)\n",
    "    if cv.getTrackbarPos(title_trackbar_button, title_erosion_window) == 1:\n",
    "        # Save the image\n",
    "        cv.imwrite(\"eroded_image.png\", erosion_dst)\n",
    "        print(\"Image saved!\")\n",
    "\n",
    "        # Reset the button value\n",
    "        cv.setTrackbarPos(title_trackbar_button, title_erosion_window, 0)"
   ]
  },
  {
   "attachments": {},
   "cell_type": "markdown",
   "metadata": {},
   "source": [
    "\n",
    "### Dilation Function\n",
    "The code is below. As you can see, it is completely similar to the snippet of code for erosion. Here we also have the option of defining our kernel, its anchor point and the size of the operator to be used.\n"
   ]
  },
  {
   "cell_type": "code",
   "execution_count": 7,
   "metadata": {},
   "outputs": [],
   "source": [
    "def dilatation(val):\n",
    "    dilatation_size = cv.getTrackbarPos(title_trackbar_kernel_size, title_dilation_window)\n",
    "    dilation_shape = morph_shape(cv.getTrackbarPos(title_trackbar_element_shape, title_dilation_window))\n",
    "    element = cv.getStructuringElement(dilation_shape, (2 * dilatation_size + 1, 2 * dilatation_size + 1),\n",
    "                                       (dilatation_size, dilatation_size))\n",
    "    dilatation_dst = cv.dilate(src, element)\n",
    "    cv.imshow(title_dilation_window, dilatation_dst)\n",
    "    if __name__ == \"__Callmain__\":\n",
    "        parser = argparse.ArgumentParser(description='Code for Eroding and Dilating tutorial.')\n",
    "        parser.add_argument('--input', help='Path to input image.', default='LinuxLogo.jpg')\n",
    "        args = parser.parse_args()\n",
    "        main(args.input)\n",
    "    if cv.getTrackbarPos(title_trackbar_button, title_dilation_window) == 1:\n",
    "        # Save the image\n",
    "        cv.imwrite(\"dilated_image.png\",dilatation_dst)\n",
    "        print(\"Image saved!\")\n",
    "\n",
    "        # Reset the button value\n",
    "        cv.setTrackbarPos(title_trackbar_button, title_dilation_window, 0)"
   ]
  },
  {
   "cell_type": "code",
   "execution_count": 8,
   "metadata": {},
   "outputs": [
    {
     "name": "stdout",
     "output_type": "stream",
     "text": [
      "Could not open or find the image: \n"
     ]
    },
    {
     "ename": "error",
     "evalue": "OpenCV(4.7.0) /io/opencv/modules/highgui/src/window.cpp:1255: error: (-2:Unspecified error) The function is not implemented. Rebuild the library with Windows, GTK+ 2.x or Cocoa support. If you are on Ubuntu or Debian, install libgtk2.0-dev and pkg-config, then re-run cmake or configure script in function 'cvNamedWindow'\n",
     "output_type": "error",
     "traceback": [
      "\u001b[0;31m---------------------------------------------------------------------------\u001b[0m",
      "\u001b[0;31merror\u001b[0m                                     Traceback (most recent call last)",
      "Cell \u001b[0;32mIn[8], line 6\u001b[0m\n\u001b[1;32m      4\u001b[0m         \u001b[39mprint\u001b[39m(\u001b[39m'\u001b[39m\u001b[39mCould not open or find the image: \u001b[39m\u001b[39m'\u001b[39m)\n\u001b[1;32m      5\u001b[0m         exit(\u001b[39m0\u001b[39m)\n\u001b[0;32m----> 6\u001b[0m Callmain(src)\n",
      "Cell \u001b[0;32mIn[4], line 3\u001b[0m, in \u001b[0;36mCallmain\u001b[0;34m(src)\u001b[0m\n\u001b[1;32m      1\u001b[0m \u001b[39mdef\u001b[39;00m \u001b[39mCallmain\u001b[39m(src):\n\u001b[0;32m----> 3\u001b[0m     cv\u001b[39m.\u001b[39;49mnamedWindow(title_erosion_window)\n\u001b[1;32m      4\u001b[0m     cv\u001b[39m.\u001b[39mcreateTrackbar(title_trackbar_element_shape, title_erosion_window, \u001b[39m0\u001b[39m, max_elem, erosion)\n\u001b[1;32m      5\u001b[0m     cv\u001b[39m.\u001b[39mcreateTrackbar(title_trackbar_kernel_size, title_erosion_window, \u001b[39m0\u001b[39m, max_kernel_size, erosion)\n",
      "\u001b[0;31merror\u001b[0m: OpenCV(4.7.0) /io/opencv/modules/highgui/src/window.cpp:1255: error: (-2:Unspecified error) The function is not implemented. Rebuild the library with Windows, GTK+ 2.x or Cocoa support. If you are on Ubuntu or Debian, install libgtk2.0-dev and pkg-config, then re-run cmake or configure script in function 'cvNamedWindow'\n"
     ]
    },
    {
     "ename": "",
     "evalue": "",
     "output_type": "error",
     "traceback": [
      "\u001b[1;31mThe Kernel crashed while executing code in the the current cell or a previous cell. Please review the code in the cell(s) to identify a possible cause of the failure. Click <a href='https://aka.ms/vscodeJupyterKernelCrash'>here</a> for more info. View Jupyter <a href='command:jupyter.viewOutput'>log</a> for further details."
     ]
    }
   ],
   "source": [
    "global src\n",
    "src = cv.imread(\"Images/binary_crosses.png\")\n",
    "if src is None:\n",
    "        print('Could not open or find the image: ')\n",
    "        exit(0)\n",
    "Callmain(src)"
   ]
  },
  {
   "attachments": {},
   "cell_type": "markdown",
   "metadata": {},
   "source": [
    "\n",
    "## Without OpenCV\n"
   ]
  },
  {
   "attachments": {},
   "cell_type": "markdown",
   "metadata": {},
   "source": [
    "\n",
    "Code Source: https://towardsdatascience.com/introduction-to-image-processing-with-python-dilation-and-erosion-for-beginners-d3a0f29ad72b\n",
    "\n"
   ]
  },
  {
   "attachments": {},
   "cell_type": "markdown",
   "metadata": {},
   "source": [
    "### Import Libraries\n"
   ]
  },
  {
   "cell_type": "code",
   "execution_count": 4,
   "metadata": {},
   "outputs": [
    {
     "name": "stdout",
     "output_type": "stream",
     "text": [
      "Defaulting to user installation because normal site-packages is not writeable\n",
      "Collecting scikit-image\n",
      "  Downloading scikit_image-0.21.0-cp311-cp311-manylinux_2_17_x86_64.manylinux2014_x86_64.whl (13.7 MB)\n",
      "\u001b[2K     \u001b[90m━━━━━━━━━━━━━━━━━━━━━━━━━━━━━━━━━━━━━━━━\u001b[0m \u001b[32m13.7/13.7 MB\u001b[0m \u001b[31m61.0 MB/s\u001b[0m eta \u001b[36m0:00:00\u001b[0m00:01\u001b[0m00:01\u001b[0m\n",
      "\u001b[?25hRequirement already satisfied: numpy>=1.21.1 in /home/vscode/.local/lib/python3.11/site-packages (from scikit-image) (1.25.0)\n",
      "Collecting scipy>=1.8 (from scikit-image)\n",
      "  Downloading scipy-1.10.1-cp311-cp311-manylinux_2_17_x86_64.manylinux2014_x86_64.whl (34.1 MB)\n",
      "\u001b[2K     \u001b[90m━━━━━━━━━━━━━━━━━━━━━━━━━━━━━━━━━━━━━━━━\u001b[0m \u001b[32m34.1/34.1 MB\u001b[0m \u001b[31m38.5 MB/s\u001b[0m eta \u001b[36m0:00:00\u001b[0m00:01\u001b[0m00:01\u001b[0m\n",
      "\u001b[?25hCollecting networkx>=2.8 (from scikit-image)\n",
      "  Downloading networkx-3.1-py3-none-any.whl (2.1 MB)\n",
      "\u001b[2K     \u001b[90m━━━━━━━━━━━━━━━━━━━━━━━━━━━━━━━━━━━━━━━━\u001b[0m \u001b[32m2.1/2.1 MB\u001b[0m \u001b[31m45.5 MB/s\u001b[0m eta \u001b[36m0:00:00\u001b[0m:00:01\u001b[0m\n",
      "\u001b[?25hRequirement already satisfied: pillow>=9.0.1 in /home/vscode/.local/lib/python3.11/site-packages (from scikit-image) (9.5.0)\n",
      "Collecting imageio>=2.27 (from scikit-image)\n",
      "  Downloading imageio-2.31.1-py3-none-any.whl (313 kB)\n",
      "\u001b[2K     \u001b[90m━━━━━━━━━━━━━━━━━━━━━━━━━━━━━━━━━━━━━━\u001b[0m \u001b[32m313.2/313.2 kB\u001b[0m \u001b[31m17.1 MB/s\u001b[0m eta \u001b[36m0:00:00\u001b[0m\n",
      "\u001b[?25hCollecting tifffile>=2022.8.12 (from scikit-image)\n",
      "  Downloading tifffile-2023.4.12-py3-none-any.whl (219 kB)\n",
      "\u001b[2K     \u001b[90m━━━━━━━━━━━━━━━━━━━━━━━━━━━━━━━━━━━━━━\u001b[0m \u001b[32m219.4/219.4 kB\u001b[0m \u001b[31m12.1 MB/s\u001b[0m eta \u001b[36m0:00:00\u001b[0m\n",
      "\u001b[?25hCollecting PyWavelets>=1.1.1 (from scikit-image)\n",
      "  Downloading PyWavelets-1.4.1-cp311-cp311-manylinux_2_17_x86_64.manylinux2014_x86_64.whl (7.0 MB)\n",
      "\u001b[2K     \u001b[90m━━━━━━━━━━━━━━━━━━━━━━━━━━━━━━━━━━━━━━━━\u001b[0m \u001b[32m7.0/7.0 MB\u001b[0m \u001b[31m50.0 MB/s\u001b[0m eta \u001b[36m0:00:00\u001b[0m00:01\u001b[0m00:01\u001b[0m\n",
      "\u001b[?25hRequirement already satisfied: packaging>=21 in /home/vscode/.local/lib/python3.11/site-packages (from scikit-image) (23.1)\n",
      "Collecting lazy_loader>=0.2 (from scikit-image)\n",
      "  Downloading lazy_loader-0.2-py3-none-any.whl (8.6 kB)\n",
      "Installing collected packages: tifffile, scipy, PyWavelets, networkx, lazy_loader, imageio, scikit-image\n",
      "Successfully installed PyWavelets-1.4.1 imageio-2.31.1 lazy_loader-0.2 networkx-3.1 scikit-image-0.21.0 scipy-1.10.1 tifffile-2023.4.12\n"
     ]
    }
   ],
   "source": [
    "!pip install scikit-image"
   ]
  },
  {
   "cell_type": "code",
   "execution_count": 5,
   "metadata": {},
   "outputs": [
    {
     "ename": "ImportError",
     "evalue": "cannot import name 'circle' from 'skimage.draw' (/home/vscode/.local/lib/python3.11/site-packages/skimage/draw/__init__.py)",
     "output_type": "error",
     "traceback": [
      "\u001b[0;31m---------------------------------------------------------------------------\u001b[0m",
      "\u001b[0;31mImportError\u001b[0m                               Traceback (most recent call last)",
      "Cell \u001b[0;32mIn[5], line 4\u001b[0m\n\u001b[1;32m      2\u001b[0m \u001b[39mimport\u001b[39;00m \u001b[39mmatplotlib\u001b[39;00m\u001b[39m.\u001b[39;00m\u001b[39mpyplot\u001b[39;00m \u001b[39mas\u001b[39;00m \u001b[39mplt\u001b[39;00m\n\u001b[1;32m      3\u001b[0m \u001b[39mfrom\u001b[39;00m \u001b[39mskimage\u001b[39;00m\u001b[39m.\u001b[39;00m\u001b[39mio\u001b[39;00m \u001b[39mimport\u001b[39;00m imread, imshow\n\u001b[0;32m----> 4\u001b[0m \u001b[39mfrom\u001b[39;00m \u001b[39mskimage\u001b[39;00m\u001b[39m.\u001b[39;00m\u001b[39mdraw\u001b[39;00m \u001b[39mimport\u001b[39;00m circle\n\u001b[1;32m      5\u001b[0m \u001b[39mfrom\u001b[39;00m \u001b[39mskimage\u001b[39;00m\u001b[39m.\u001b[39;00m\u001b[39mmorphology\u001b[39;00m \u001b[39mimport\u001b[39;00m erosion, dilation\n",
      "\u001b[0;31mImportError\u001b[0m: cannot import name 'circle' from 'skimage.draw' (/home/vscode/.local/lib/python3.11/site-packages/skimage/draw/__init__.py)"
     ]
    }
   ],
   "source": [
    "import numpy as np\n",
    "import matplotlib.pyplot as plt\n",
    "from skimage.io import imread, imshow\n",
    "from skimage.draw import circle\n",
    "from skimage.morphology import erosion, dilation"
   ]
  },
  {
   "attachments": {},
   "cell_type": "markdown",
   "metadata": {},
   "source": [
    "\n",
    "### Create a shape\n"
   ]
  },
  {
   "attachments": {},
   "cell_type": "markdown",
   "metadata": {},
   "source": [
    "\n",
    "Creating a circle\n"
   ]
  },
  {
   "cell_type": "code",
   "execution_count": null,
   "metadata": {},
   "outputs": [],
   "source": [
    "\n",
    "circ_image = np.zeros((100, 100))\n",
    "circ_image[circle(50, 50, 25)] = 1\n",
    "imshow(circ_image); \n"
   ]
  },
  {
   "attachments": {},
   "cell_type": "markdown",
   "metadata": {},
   "source": [
    "\n",
    "Applying a kernel to it\n"
   ]
  },
  {
   "cell_type": "code",
   "execution_count": null,
   "metadata": {},
   "outputs": [],
   "source": [
    "\n",
    "cross = np.array([[0,1,0],\n",
    "                  [1,1,1],\n",
    "                  [0,1,0]])\n",
    "imshow(cross, cmap = 'gray');\n",
    "\n",
    "### Applying Erosion Function\n",
    "\n",
    "eroded_circle = erosion(circ_image, cross)\n",
    "imshow(eroded_circle);\n"
   ]
  },
  {
   "attachments": {},
   "cell_type": "markdown",
   "metadata": {},
   "source": [
    "\n",
    "Viewing original image and eroded image side by side\n"
   ]
  },
  {
   "cell_type": "code",
   "execution_count": null,
   "metadata": {},
   "outputs": [],
   "source": [
    "\n",
    "linecolor = 'red'\n",
    "fig, ax = plt.subplots(1, 2, figsize=(12, 5))\n",
    "ax[0].imshow(circ_image, cmap = 'gray');\n",
    "ax[0].set_title('Original', fontsize = 19)\n",
    "ax[0].axvline(x = 25, color = linecolor)\n",
    "ax[0].axvline(x = 75, color = linecolor)\n",
    "ax[0].axhline(y = 25, color = linecolor)\n",
    "ax[0].axhline(y = 75, color = linecolor)\n",
    "ax[1].imshow(eroded_circle, cmap = 'gray');\n",
    "ax[1].set_title('Eroded', fontsize = 19)\n",
    "ax[1].axvline(x = 25, color = linecolor)\n",
    "ax[1].axvline(x = 75, color = linecolor)\n",
    "ax[1].axhline(y = 25, color = linecolor)\n",
    "ax[1].axhline(y = 75, color = linecolor)\n",
    "fig.tight_layout()\n"
   ]
  },
  {
   "attachments": {},
   "cell_type": "markdown",
   "metadata": {},
   "source": [
    "\n",
    "The eroded circle has shrunk slightly. This becomes more apparent as we perform many iterations of the erosion function\n"
   ]
  },
  {
   "cell_type": "code",
   "execution_count": null,
   "metadata": {},
   "outputs": [],
   "source": [
    "\n",
    "def multi_erosion(image, kernel, iterations):\n",
    "    for i in range(iterations):\n",
    "        image = erosion(image, kernel)\n",
    "    return image\n",
    "ites = [2,4,6,8,10,12,14,16,18,20]\n",
    "fig, ax = plt.subplots(2, 5, figsize=(17, 5))\n",
    "for n, ax in enumerate(ax.flatten()):\n",
    "    ax.set_title(f'Iterations : {ites[n]}', fontsize = 16)\n",
    "    new_circle = multi_erosion(circ_image, cross, ites[n])\n",
    "    ax.imshow(new_circle, cmap = 'gray');\n",
    "    ax.axis('off')\n",
    "fig.tight_layout()\n"
   ]
  },
  {
   "attachments": {},
   "cell_type": "markdown",
   "metadata": {},
   "source": [
    "\n",
    "#### Changing the kernel function\n"
   ]
  },
  {
   "attachments": {},
   "cell_type": "markdown",
   "metadata": {},
   "source": [
    "\n",
    " Instead of a cross kernel we use a horizontal line as well as a vertical line kernel.\n"
   ]
  },
  {
   "cell_type": "code",
   "execution_count": null,
   "metadata": {},
   "outputs": [],
   "source": [
    "\n",
    "h_line = np.array([[0,0,0],\n",
    "                  [1,1,1],\n",
    "                  [0,0,0]])\n",
    "v_line = np.array([[0,1,0],\n",
    "                  [0,1,0],\n",
    "                  [0,1,0]])\n",
    "fig, ax = plt.subplots(1, 2, figsize=(15, 5))\n",
    "ax[0].imshow(h_line, cmap='gray');\n",
    "ax[1].imshow(v_line, cmap='gray');\n",
    "fig.tight_layout()\n",
    "\n",
    "ites = [2,4,6,8,10,12,14,16,18,20]\n",
    "fig, ax = plt.subplots(2, 5, figsize=(17, 5))\n",
    "for n, ax in enumerate(ax.flatten()):\n",
    "    ax.set_title(f'Horizontal Iterations : {ites[n]}', fontsize = 12)\n",
    "    new_circle = multi_erosion(circ_image, h_line, ites[n])\n",
    "    ax.imshow(new_circle, cmap = 'gray');\n",
    "    ax.axis('off')\n",
    "fig.tight_layout()\n",
    "fig, ax = plt.subplots(2, 5, figsize=(17, 5))\n",
    "for n, ax in enumerate(ax.flatten()):\n",
    "    ax.set_title(f'Vertical Iterationss : {ites[n]}', fontsize = 12)\n",
    "    new_circle = multi_erosion(circ_image, v_line, ites[n])\n",
    "    ax.imshow(new_circle, cmap = 'gray');\n",
    "    ax.axis('off')\n",
    "fig.tight_layout()\n"
   ]
  },
  {
   "attachments": {},
   "cell_type": "markdown",
   "metadata": {},
   "source": [
    "\n",
    "### Applying Dilation Function\n"
   ]
  },
  {
   "cell_type": "code",
   "execution_count": null,
   "metadata": {},
   "outputs": [],
   "source": [
    "\n",
    "def multi_dilation(image, kernel, iterations):\n",
    "    for i in range(iterations):\n",
    "        image = dilation(image, kernel)\n",
    "    return image\n",
    "\n",
    "dilated_circle = multi_dilation(circ_image, cross, 1)\n",
    "linecolor = 'red'\n",
    "fig, ax = plt.subplots(1, 2, figsize=(12, 5))\n",
    "ax[0].imshow(circ_image, cmap = 'gray');\n",
    "ax[0].set_title('Original', fontsize = 19)\n",
    "ax[0].axvline(x = 25, color = linecolor)\n",
    "ax[0].axvline(x = 75, color = linecolor)\n",
    "ax[0].axhline(y = 25, color = linecolor)\n",
    "ax[0].axhline(y = 75, color = linecolor)\n",
    "ax[1].imshow(dilated_circle, cmap = 'gray');\n",
    "ax[1].set_title('Dilated', fontsize = 19)\n",
    "ax[1].axvline(x = 25, color = linecolor)\n",
    "ax[1].axvline(x = 75, color = linecolor)\n",
    "ax[1].axhline(y = 25, color = linecolor)\n",
    "ax[1].axhline(y = 75, color = linecolor)\n",
    "fig.tight_layout()\n"
   ]
  },
  {
   "attachments": {},
   "cell_type": "markdown",
   "metadata": {},
   "source": [
    "\n",
    "Over many iterations:\n"
   ]
  },
  {
   "cell_type": "code",
   "execution_count": null,
   "metadata": {},
   "outputs": [],
   "source": [
    "\n",
    "ites = [2,4,6,8,10,12,14,16,18,20]\n",
    "fig, ax = plt.subplots(2, 5, figsize=(17, 5))\n",
    "for n, ax in enumerate(ax.flatten()):\n",
    "    ax.set_title(f'Horizontal Iterations : {ites[n]}', fontsize = \n",
    "                 12)\n",
    "    new_circle = multi_dilation(circ_image, h_line, ites[n])\n",
    "    ax.imshow(new_circle, cmap = 'gray');\n",
    "    ax.axis('off')\n",
    "fig.tight_layout()\n",
    "fig, ax = plt.subplots(2, 5, figsize=(17, 5))\n",
    "for n, ax in enumerate(ax.flatten()):\n",
    "    ax.set_title(f'Vertical Iterationss : {ites[n]}', fontsize = 12)\n",
    "    new_circle = multi_dilation(circ_image, v_line, ites[n])\n",
    "    ax.imshow(new_circle, cmap = 'gray');\n",
    "    ax.axis('off')\n",
    "fig.tight_layout()\n"
   ]
  },
  {
   "attachments": {},
   "cell_type": "markdown",
   "metadata": {},
   "source": [
    "\n",
    "### Using a complex Image\n"
   ]
  },
  {
   "cell_type": "code",
   "execution_count": null,
   "metadata": {},
   "outputs": [],
   "source": [
    "\n",
    "complex_image = imread('complex_image.png')\n",
    "imshow(complex_image);\n"
   ]
  },
  {
   "cell_type": "code",
   "execution_count": null,
   "metadata": {},
   "outputs": [],
   "source": [
    "\n",
    "step_1 = multi_erosion(complex_image, h_line,3)\n",
    "step_2 = multi_erosion(step_1, v_line,3)\n",
    "step_3 = multi_dilation(step_2, h_line,3)\n",
    "step_4 = multi_dilation(step_3, v_line,3)\n",
    "steps = [step_1, step_2, step_3, step_4]\n",
    "names = ['Step 1', 'Step 2', 'Step 3', 'Step 4']\n",
    "fig, ax = plt.subplots(2, 2, figsize=(10, 10))\n",
    "for n, ax in enumerate(ax.flatten()):\n",
    "    ax.set_title(f'{names[n]}', fontsize = 22)\n",
    "    ax.imshow(steps[n], cmap = 'gray');\n",
    "    ax.axis('off')\n",
    "fig.tight_layout()\n"
   ]
  },
  {
   "attachments": {},
   "cell_type": "markdown",
   "metadata": {},
   "source": [
    "\n",
    "#### Finding Horizontal Lines\n"
   ]
  },
  {
   "cell_type": "code",
   "execution_count": null,
   "metadata": {},
   "outputs": [],
   "source": [
    "\n",
    "step_1 = multi_erosion(complex_image, cross, 20)\n",
    "step_2 = multi_dilation(step_1, h_line, 20)\n",
    "step_3 = multi_dilation(step_2, v_line,2)\n",
    "steps = [step_1, step_2, step_3]\n",
    "names = ['Step 1', 'Step 2', 'Step 3']fig, ax = plt.subplots(1, 3, figsize=(10, 10))\n",
    "for n, ax in enumerate(ax.flatten()):\n",
    "    ax.set_title(f'{names[n]}', fontsize = 22)\n",
    "    ax.imshow(steps[n], cmap = 'gray');\n",
    "    ax.axis('off')\n",
    "fig.tight_layout()\n"
   ]
  },
  {
   "attachments": {},
   "cell_type": "markdown",
   "metadata": {},
   "source": [
    "\n",
    "#### Creating a new kernel\n"
   ]
  },
  {
   "cell_type": "code",
   "execution_count": null,
   "metadata": {},
   "outputs": [],
   "source": [
    "\n",
    "long_v_line = np.array([[0,1,0],\n",
    "                        [0,1,0],\n",
    "                        [0,1,0],\n",
    "                        [0,1,0],\n",
    "                        [0,1,0]])\n",
    "step_1 = multi_erosion(complex_image, long_v_line, 10)\n",
    "step_2 = multi_dilation(step_1 ,long_v_line, 10)\n",
    "steps = [step_1, step_2]\n",
    "names = ['Step 1', 'Step 2']\n",
    "fig, ax = plt.subplots(1, 2, figsize=(10, 10))\n",
    "for n, ax in enumerate(ax.flatten()):\n",
    "    ax.set_title(f'{names[n]}', fontsize = 22)\n",
    "    ax.imshow(steps[n], cmap = 'gray');\n",
    "    ax.axis('off')\n",
    "fig.tight_layout()\n"
   ]
  }
 ],
 "metadata": {
  "kernelspec": {
   "display_name": "Python 3",
   "language": "python",
   "name": "python3"
  },
  "language_info": {
   "codemirror_mode": {
    "name": "ipython",
    "version": 3
   },
   "file_extension": ".py",
   "mimetype": "text/x-python",
   "name": "python",
   "nbconvert_exporter": "python",
   "pygments_lexer": "ipython3",
   "version": "3.11.4"
  },
  "orig_nbformat": 4
 },
 "nbformat": 4,
 "nbformat_minor": 2
}
